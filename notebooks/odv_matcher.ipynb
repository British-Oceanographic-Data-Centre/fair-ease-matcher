{
 "cells": [
  {
   "cell_type": "markdown",
   "id": "d40b0f6c3fe1c66b",
   "metadata": {
    "collapsed": false
   },
   "source": [
    "Example ODV"
   ]
  },
  {
   "cell_type": "code",
   "execution_count": 1,
   "id": "d5417e863be7500c",
   "metadata": {
    "ExecuteTime": {
     "end_time": "2023-08-14T00:20:54.500643294Z",
     "start_time": "2023-08-14T00:20:53.738688095Z"
    },
    "collapsed": false
   },
   "outputs": [],
   "source": [
    "from src.odv import *\n",
    "import json\n",
    "import os\n",
    "from pathlib import Path\n",
    "\n",
    "from SPARQLWrapper import SPARQLWrapper, JSON\n",
    "from langchain import PromptTemplate, OpenAI"
   ]
  },
  {
   "cell_type": "markdown",
   "id": "af25b19beb67e6d4",
   "metadata": {
    "collapsed": false
   },
   "source": [
    "Set environment variables"
   ]
  },
  {
   "cell_type": "code",
   "execution_count": 2,
   "id": "5bda4bf6b2a413f6",
   "metadata": {
    "ExecuteTime": {
     "end_time": "2023-08-08T07:57:16.213416769Z",
     "start_time": "2023-08-08T07:57:16.170986793Z"
    },
    "collapsed": false
   },
   "outputs": [],
   "source": [
    "os.environ[\"OPENAI_API_KEY\"] = \"\" # enter your Open API Key here\n",
    "os.environ[\"TEST_MODE\"] = \"true\"\n",
    "os.environ[\"SPARQL_ENDPOINT\"] = \"https://bodc.cluster-clc4weqlymzs.ap-southeast-2.neptune.amazonaws.com:8182/sparql\""
   ]
  },
  {
   "cell_type": "markdown",
   "id": "2d4404420d05295a",
   "metadata": {
    "collapsed": false
   },
   "source": [
    "Get the 'head' of an ODV file"
   ]
  },
  {
   "cell_type": "code",
   "execution_count": 3,
   "id": "5e512c5634761e1b",
   "metadata": {
    "ExecuteTime": {
     "end_time": "2023-08-08T07:51:54.732964139Z",
     "start_time": "2023-08-08T07:51:54.728191903Z"
    },
    "collapsed": false,
    "scrolled": true
   },
   "outputs": [
    {
     "name": "stdout",
     "output_type": "stream",
     "text": [
      "﻿//<sdn_reference xlink:href=\"https://cdi.seadatanet.org/report/edmo/545/77AR2009_00095_H09\" xlink:role=\"isDescribedBy\" xlink:type=\"SDN:L23::CDI\"/>\n",
      "//\n",
      "//SDN_parameter_mapping\n",
      "//<subject>SDN:LOCAL:DEPH</subject><object>SDN:P01::ADEPZZ01</object><units>SDN:P06::ULAA</units>\n",
      "//<subject>SDN:LOCAL:TEMP</subject><object>SDN:P01::TEMPPR01</object><units>SDN:P06::UPAA</units>\n",
      "//<subject>SDN:LOCAL:PSAL</subject><object>SDN:P01::PSLTZZ01</object><units>SDN:P06::UUUU</units>\n",
      "//<subject>SDN:LOCAL:PHPH</subject><object>SDN:P01::PHXXZZXX</object><units>SDN:P06::UUPH</units>\n",
      "//<subject>SDN:LOCAL:DOX1</subject><object>SDN:P01::DOXYZZXX</object><units>SDN:P06::UMLL</units>\n",
      "//<subject>SDN:LOCAL:HSUL</subject><object>SDN:P01::H2SXZZXX</object><units>SDN:P06::UPOX</units>\n",
      "//<subject>SDN:LOCAL:PHOS</subject><object>SDN:P01::PHOSZZXX</object><units>SDN:P06::UPOX</units>\n",
      "//<subject>SDN:LOCAL:TPHS</subject><object>SDN:P01::TPHSZZXX</object><units>SDN:P06::UPOX</units>\n",
      "//<subject>SDN:LOCAL:NTRI</subject><object>SDN:P01::NTRIZZXX</object><units>SDN:P06::UPOX</units>\n",
      "//<subject>SDN:LOCAL:NTRA</subject><object>SDN:P01::NTRAZZXX</object><units>SDN:P06::UPOX</units>\n",
      "//<subject>SDN:LOCAL:AMON</subject><object>SDN:P01::AMONZZXX</object><units>SDN:P06::UPOX</units>\n",
      "//<subject>SDN:LOCAL:NTOT</subject><object>SDN:P01::NTOTZZXX</object><units>SDN:P06::UPOX</units>\n",
      "//<subject>SDN:LOCAL:ALKY</subject><object>SDN:P01::ALKYZZXX</object><units>SDN:P06::UPOX</units>\n",
      "//<subject>SDN:LOCAL:SLCA</subject><object>SDN:P01::SLCAZZXX</object><units>SDN:P06::UPOX</units>\n",
      "//<subject>SDN:LOCAL:PN1P</subject><object>SDN:P01::NTOTZZZZ</object><units>SDN:P06::UPOX</units>\n",
      "//<subject>SDN:LOCAL:PC1P</subject><object>SDN:P01::MDMAP010</object><units>SDN:P06::UPOX</units>\n",
      "//<subject>SDN:LOCAL:TOCW</subject><object>SDN:P01::CORGZZTL</object><units>SDN:P06::UPOX</units>\n",
      "//<subject>SDN:LOCAL:CPHL</subject><object>SDN:P01::CPHLZZXX</object><units>SDN:P06::UMMC</units>\n",
      "//\n",
      "Cruise\tStation\tType\tyyyy-mm-ddThh:mm:ss.sss\tLongitude [degrees_east]\tLatitude [degrees_north]\tLOCAL_CDI_ID\tEDMO_CODE\tBot. Depth [m]\tDEPH [meter]\tQV:SEADATANET\tTEMP [Celsius degree]\tQV:SEADATANET\tPSAL [P.S.U.]\tQV:SEADATANET\tPHPH [pH unit]\tQV:SEADATANET\tDOX1 [ml/l]\tQV:SEADATANET\tHSUL [micromole/l]\tQV:SEADATANET\tPHOS [micromole/l]\tQV:SEADATANET\tTPHS [micromole/l]\tQV:SEADATANET\tNTRI [micromole/l]\tQV:SEADATANET\tNTRA [micromole/l]\tQV:SEADATANET\tAMON [micromole/l]\tQV:SEADATANET\tNTOT [micromole/l]\tQV:SEADATANET\tALKY [micromole/l]\tQV:SEADATANET\tSLCA [micromole/l]\tQV:SEADATANET\tPN1P [micromole/l]\tQV:SEADATANET\tPC1P [micromole/l]\tQV:SEADATANET\tTOCW [micromole/l]\tQV:SEADATANET\tCPHL [milligram/m3]\tQV:SEADATANET\n",
      "77AR2009\tS�RGRUND\tB\t2009-01-27T15:50:00.000\t+011.163000\t+58.265500\t77AR2009_00095_H09\t545\t63\t0.0\t1\t3.52\t1\t24.598\t1\t\t9\t7.760\t1\t\t9\t0.71\t1\t1.14\t1\t0.33\t1\t6.80\t1\t0.22\t1\t18.4\t1\t\t9\t12.1\t1\t\t9\t\t9\t\t9\t\t9\n",
      "\t\t\t\t\t\t\t\t\t5.0\t1\t3.50\t1\t24.788\t1\t\t9\t7.720\t1\t\t9\t0.75\t1\t1.13\t1\t0.33\t1\t6.82\t1\t0.22\t1\t18.6\t1\t\t9\t12.0\t1\t\t9\t\t9\t\t9\t\t9\n",
      "\t\t\t\t\t\t\t\t\t10.0\t1\t3.79\t1\t25.795\t1\t\t9\t7.520\t1\t\t9\t0.73\t1\t1.17\t1\t0.31\t1\t6.81\t1\t0.15\t1\t18.8\t1\t\t9\t11.9\t1\t\t9\t\t9\t\t9\t\t9\n",
      "\t\t\t\t\t\t\t\t\t15.0\t1\t4.66\t1\t28.929\t1\t\t9\t7.230\t1\t\t9\t0.73\t1\t1.09\t1\t0.27\t1\t7.33\t1\t0.16\t1\t17.4\t1\t\t9\t11.0\t1\t\t9\t\t9\t\t9\t\t9\n",
      "\t\t\t\t\t\t\t\t\t20.0\t1\t4.83\t1\t31.244\t1\t\t9\t7.170\t1\t\t9\t0.67\t1\t0.84\t1\t0.24\t1\t7.46\t1\t0.22\t1\t16.0\t1\t\t9\t8.7\t1\t\t9\t\t9\t\t9\t\t9\n",
      "\t\t\t\t\t\t\t\t\t30.0\t1\t5.21\t1\t34.000\t1\t\t9\t7.030\t1\t\t9\t0.60\t1\t0.78\t1\t0.12\t1\t6.78\t1\t0.25\t1\t14.0\t1\t\t9\t5.8\t1\t\t9\t\t9\t\t9\t\t9\n",
      "\t\t\t\t\t\t\t\t\t40.0\t1\t5.48\t1\t34.414\t1\t\t9\t6.990\t1\t\t9\t0.59\t1\t0.78\t1\t0.10\t1\t6.67\t1\t0.13\t1\t13.7\t1\t\t9\t4.7\t1\t\t9\t\t9\t\t9\t\t9\n",
      "\t\t\t\t\t\t\t\t\t50.0\t1\t5.71\t1\t34.641\t1\t\t9\t\t9\t\t9\t0.58\t1\t0.81\t1\t0.09\t1\t6.92\t1\t0.05\t6\t13.1\t1\t\t9\t4.1\t1\t\t9\t\t9\t\t9\t\t9\n",
      "\t\t\t\t\t\t\t\t\t62.0\t1\t5.84\t1\t34.668\t1\t\t9\t6.870\t1\t\t9\t0.63\t1\t0.80\t1\t0.09\t1\t6.87\t1\t0.05\t6\t14.0\t1\t\t9\t4.1\t1\t\t9\t\t9\t\t9\t\t9\n"
     ]
    }
   ],
   "source": [
    "odv_text = read_file(Path(\"data/000545_ODV_77AR2009_00095_H09_V0.txt\"))\n",
    "print(odv_text)"
   ]
  },
  {
   "cell_type": "markdown",
   "id": "6b1b8cf9f77d6c61",
   "metadata": {
    "collapsed": false
   },
   "source": [
    "Populate a Large Language Model prompt with the head of the file:"
   ]
  },
  {
   "cell_type": "code",
   "execution_count": 4,
   "id": "c564abf9f019d3e4",
   "metadata": {
    "ExecuteTime": {
     "end_time": "2023-08-08T07:52:46.917408199Z",
     "start_time": "2023-08-08T07:52:46.909321564Z"
    },
    "collapsed": false,
    "scrolled": true
   },
   "outputs": [
    {
     "name": "stdout",
     "output_type": "stream",
     "text": [
      "    The following data is the first 10000 characters from an Ocean Data View file.\n",
      "    There may be comment lines at the beginning of the file, which start with //.\n",
      "    I am interested in, for \"value\" columns:\n",
      "        1. Vocabularies/concepts used for the columns, these may be specified in columns with a URN, or they may not be specified at all.\n",
      "        2. Units/concepts for the same columns. These may also be specified with a URN, or not at all, or in the column heading itself or both.\n",
      "    I am not interested in \"Local\" URNs. These are of the form \"SDN:LOCAL:ABCD\". These are only used to map from the comments to the column labels in the data itself.\n",
      "    I am interested in non \"Local\" URNs. These are of the form \"SDN:P01::ABCDEFG\" These refer to external vocabularies.\n",
      "    I am also interested in Instrument and Observation Platform information if available.\n",
      "    If a column name is repeated multiple times, it's probably not actually a column - please ignore it.\n",
      "    Please extract this information based on the columns as JSON in the format below. For each column_name if an \n",
      "    attribute (\"column_vocabulary_text\", \"column_vocabulary_urn\", \"column_unit_text\", \"column_unit_urn\", \"instrument\", \n",
      "    \"observation_platform\") has information, include that attribute in the response, otherwise do not include it for \n",
      "    that column_name. \"column_unit_text\" is typically included in square brackets for example \"[milligram/m3]\".\n",
      "    \n",
      "    {\n",
      "        \"columns\": [\n",
      "            {\"column_name\" : \n",
      "                {\n",
      "                    \"column_vocabulary_text\": \"col vocab text\",\n",
      "                    \"column_vocabulary_urn\": \"col vocab urn\",\n",
      "                    \"column_unit_text\": \"col unit text\",\n",
      "                    \"column_unit_urn\": \"col unit urn\",\n",
      "                    \"instrument\": \"instrument text\",\n",
      "                    \"observation_platform\": \"observation platform text\"\n",
      "                }\n",
      "            }\n",
      "        ]\n",
      "    }\n",
      "    This is the first 10000 characters: ﻿//<sdn_reference xlink:href=\"https://cdi.seadatanet.org/report/edmo/545/77AR2009_00095_H09\" xlink:role=\"isDescribedBy\" xlink:type=\"SDN:L23::CDI\"/>\n",
      "//\n",
      "//SDN_parameter_mapping\n",
      "//<subject>SDN:LOCAL:DEPH</subject><object>SDN:P01::ADEPZZ01</object><units>SDN:P06::ULAA</units>\n",
      "//<subject>SDN:LOCAL:TEMP</subject><object>SDN:P01::TEMPPR01</object><units>SDN:P06::UPAA</units>\n",
      "//<subject>SDN:LOCAL:PSAL</subject><object>SDN:P01::PSLTZZ01</object><units>SDN:P06::UUUU</units>\n",
      "//<subject>SDN:LOCAL:PHPH</subject><object>SDN:P01::PHXXZZXX</object><units>SDN:P06::UUPH</units>\n",
      "//<subject>SDN:LOCAL:DOX1</subject><object>SDN:P01::DOXYZZXX</object><units>SDN:P06::UMLL</units>\n",
      "//<subject>SDN:LOCAL:HSUL</subject><object>SDN:P01::H2SXZZXX</object><units>SDN:P06::UPOX</units>\n",
      "//<subject>SDN:LOCAL:PHOS</subject><object>SDN:P01::PHOSZZXX</object><units>SDN:P06::UPOX</units>\n",
      "//<subject>SDN:LOCAL:TPHS</subject><object>SDN:P01::TPHSZZXX</object><units>SDN:P06::UPOX</units>\n",
      "//<subject>SDN:LOCAL:NTRI</subject><object>SDN:P01::NTRIZZXX</object><units>SDN:P06::UPOX</units>\n",
      "//<subject>SDN:LOCAL:NTRA</subject><object>SDN:P01::NTRAZZXX</object><units>SDN:P06::UPOX</units>\n",
      "//<subject>SDN:LOCAL:AMON</subject><object>SDN:P01::AMONZZXX</object><units>SDN:P06::UPOX</units>\n",
      "//<subject>SDN:LOCAL:NTOT</subject><object>SDN:P01::NTOTZZXX</object><units>SDN:P06::UPOX</units>\n",
      "//<subject>SDN:LOCAL:ALKY</subject><object>SDN:P01::ALKYZZXX</object><units>SDN:P06::UPOX</units>\n",
      "//<subject>SDN:LOCAL:SLCA</subject><object>SDN:P01::SLCAZZXX</object><units>SDN:P06::UPOX</units>\n",
      "//<subject>SDN:LOCAL:PN1P</subject><object>SDN:P01::NTOTZZZZ</object><units>SDN:P06::UPOX</units>\n",
      "//<subject>SDN:LOCAL:PC1P</subject><object>SDN:P01::MDMAP010</object><units>SDN:P06::UPOX</units>\n",
      "//<subject>SDN:LOCAL:TOCW</subject><object>SDN:P01::CORGZZTL</object><units>SDN:P06::UPOX</units>\n",
      "//<subject>SDN:LOCAL:CPHL</subject><object>SDN:P01::CPHLZZXX</object><units>SDN:P06::UMMC</units>\n",
      "//\n",
      "Cruise\tStation\tType\tyyyy-mm-ddThh:mm:ss.sss\tLongitude [degrees_east]\tLatitude [degrees_north]\tLOCAL_CDI_ID\tEDMO_CODE\tBot. Depth [m]\tDEPH [meter]\tQV:SEADATANET\tTEMP [Celsius degree]\tQV:SEADATANET\tPSAL [P.S.U.]\tQV:SEADATANET\tPHPH [pH unit]\tQV:SEADATANET\tDOX1 [ml/l]\tQV:SEADATANET\tHSUL [micromole/l]\tQV:SEADATANET\tPHOS [micromole/l]\tQV:SEADATANET\tTPHS [micromole/l]\tQV:SEADATANET\tNTRI [micromole/l]\tQV:SEADATANET\tNTRA [micromole/l]\tQV:SEADATANET\tAMON [micromole/l]\tQV:SEADATANET\tNTOT [micromole/l]\tQV:SEADATANET\tALKY [micromole/l]\tQV:SEADATANET\tSLCA [micromole/l]\tQV:SEADATANET\tPN1P [micromole/l]\tQV:SEADATANET\tPC1P [micromole/l]\tQV:SEADATANET\tTOCW [micromole/l]\tQV:SEADATANET\tCPHL [milligram/m3]\tQV:SEADATANET\n",
      "77AR2009\tS�RGRUND\tB\t2009-01-27T15:50:00.000\t+011.163000\t+58.265500\t77AR2009_00095_H09\t545\t63\t0.0\t1\t3.52\t1\t24.598\t1\t\t9\t7.760\t1\t\t9\t0.71\t1\t1.14\t1\t0.33\t1\t6.80\t1\t0.22\t1\t18.4\t1\t\t9\t12.1\t1\t\t9\t\t9\t\t9\t\t9\n",
      "\t\t\t\t\t\t\t\t\t5.0\t1\t3.50\t1\t24.788\t1\t\t9\t7.720\t1\t\t9\t0.75\t1\t1.13\t1\t0.33\t1\t6.82\t1\t0.22\t1\t18.6\t1\t\t9\t12.0\t1\t\t9\t\t9\t\t9\t\t9\n",
      "\t\t\t\t\t\t\t\t\t10.0\t1\t3.79\t1\t25.795\t1\t\t9\t7.520\t1\t\t9\t0.73\t1\t1.17\t1\t0.31\t1\t6.81\t1\t0.15\t1\t18.8\t1\t\t9\t11.9\t1\t\t9\t\t9\t\t9\t\t9\n",
      "\t\t\t\t\t\t\t\t\t15.0\t1\t4.66\t1\t28.929\t1\t\t9\t7.230\t1\t\t9\t0.73\t1\t1.09\t1\t0.27\t1\t7.33\t1\t0.16\t1\t17.4\t1\t\t9\t11.0\t1\t\t9\t\t9\t\t9\t\t9\n",
      "\t\t\t\t\t\t\t\t\t20.0\t1\t4.83\t1\t31.244\t1\t\t9\t7.170\t1\t\t9\t0.67\t1\t0.84\t1\t0.24\t1\t7.46\t1\t0.22\t1\t16.0\t1\t\t9\t8.7\t1\t\t9\t\t9\t\t9\t\t9\n",
      "\t\t\t\t\t\t\t\t\t30.0\t1\t5.21\t1\t34.000\t1\t\t9\t7.030\t1\t\t9\t0.60\t1\t0.78\t1\t0.12\t1\t6.78\t1\t0.25\t1\t14.0\t1\t\t9\t5.8\t1\t\t9\t\t9\t\t9\t\t9\n",
      "\t\t\t\t\t\t\t\t\t40.0\t1\t5.48\t1\t34.414\t1\t\t9\t6.990\t1\t\t9\t0.59\t1\t0.78\t1\t0.10\t1\t6.67\t1\t0.13\t1\t13.7\t1\t\t9\t4.7\t1\t\t9\t\t9\t\t9\t\t9\n",
      "\t\t\t\t\t\t\t\t\t50.0\t1\t5.71\t1\t34.641\t1\t\t9\t\t9\t\t9\t0.58\t1\t0.81\t1\t0.09\t1\t6.92\t1\t0.05\t6\t13.1\t1\t\t9\t4.1\t1\t\t9\t\t9\t\t9\t\t9\n",
      "\t\t\t\t\t\t\t\t\t62.0\t1\t5.84\t1\t34.668\t1\t\t9\t6.870\t1\t\t9\t0.63\t1\t0.80\t1\t0.09\t1\t6.87\t1\t0.05\t6\t14.0\t1\t\t9\t4.1\t1\t\t9\t\t9\t\t9\t\t9\n",
      "\n",
      "    \n"
     ]
    }
   ],
   "source": [
    "prompt = create_odv_prompt(odv_text)\n",
    "print(prompt)"
   ]
  },
  {
   "cell_type": "markdown",
   "id": "add6f7cf52108b27",
   "metadata": {
    "collapsed": false
   },
   "source": [
    "Run the populated prompt against a large language model - this is akin to sending a question to ChatGPT"
   ]
  },
  {
   "cell_type": "code",
   "execution_count": 5,
   "id": "2c3735b37685b625",
   "metadata": {
    "ExecuteTime": {
     "end_time": "2023-08-08T07:55:10.349382383Z",
     "start_time": "2023-08-08T07:54:27.240086463Z"
    },
    "collapsed": false
   },
   "outputs": [
    {
     "name": "stderr",
     "output_type": "stream",
     "text": [
      "/home/david/.cache/pypoetry/virtualenvs/bodc-matcher-2lApQdya-py3.11/lib/python3.11/site-packages/langchain/llms/openai.py:200: UserWarning: You are trying to use a chat model. This way of initializing it is no longer supported. Instead, please use: `from langchain.chat_models import ChatOpenAI`\n",
      "  warnings.warn(\n",
      "/home/david/.cache/pypoetry/virtualenvs/bodc-matcher-2lApQdya-py3.11/lib/python3.11/site-packages/langchain/llms/openai.py:801: UserWarning: You are trying to use a chat model. This way of initializing it is no longer supported. Instead, please use: `from langchain.chat_models import ChatOpenAI`\n",
      "  warnings.warn(\n"
     ]
    },
    {
     "name": "stdout",
     "output_type": "stream",
     "text": [
      "{\n",
      "    \"columns\": [\n",
      "        {\n",
      "            \"column_name\": {\n",
      "                \"column_unit_text\": \"[meter]\",\n",
      "                \"column_vocabulary_urn\": \"SDN:P01::ADEPZZ01\",\n",
      "                \"column_vocabulary_text\": \"Bot. Depth\"\n",
      "            }\n",
      "        },\n",
      "        {\n",
      "            \"column_name\": {\n",
      "                \"column_vocabulary_urn\": \"SDN:P01::TEMPPR01\",\n",
      "                \"column_unit_text\": \"[Celsius degree]\",\n",
      "                \"column_vocabulary_text\": \"TEMP\"\n",
      "            }\n",
      "        },\n",
      "        {\n",
      "            \"column_name\": {\n",
      "                \"column_vocabulary_text\": \"PSAL\",\n",
      "                \"column_vocabulary_urn\": \"SDN:P01::PSLTZZ01\",\n",
      "                \"column_unit_text\": \"[P.S.U.]\"\n",
      "            }\n",
      "        },\n",
      "        {\n",
      "            \"column_name\": {\n",
      "                \"column_unit_text\": \"[pH unit]\",\n",
      "                \"column_vocabulary_text\": \"PHPH\",\n",
      "                \"column_vocabulary_urn\": \"SDN:P01::PHXXZZXX\"\n",
      "            }\n",
      "        },\n",
      "        {\n",
      "            \"column_name\": {\n",
      "                \"column_unit_text\": \"[ml/l]\",\n",
      "                \"column_vocabulary_urn\": \"SDN:P01::DOXYZZXX\",\n",
      "                \"column_vocabulary_text\": \"DOX1\"\n",
      "            }\n",
      "        },\n",
      "        {\n",
      "            \"column_name\": {\n",
      "                \"column_vocabulary_text\": \"HSUL\",\n",
      "                \"column_unit_text\": \"[micromole/l]\",\n",
      "                \"column_vocabulary_urn\": \"SDN:P01::H2SXZZXX\"\n",
      "            }\n",
      "        },\n",
      "        {\n",
      "            \"column_name\": {\n",
      "                \"column_vocabulary_text\": \"PHOS\",\n",
      "                \"column_unit_text\": \"[micromole/l]\",\n",
      "                \"column_vocabulary_urn\": \"SDN:P01::PHOSZZXX\"\n",
      "            }\n",
      "        },\n",
      "        {\n",
      "            \"column_name\": {\n",
      "                \"column_vocabulary_text\": \"TPHS\",\n",
      "                \"column_unit_text\": \"[micromole/l]\",\n",
      "                \"column_vocabulary_urn\": \"SDN:P01::TPHSZZXX\"\n",
      "            }\n",
      "        },\n",
      "        {\n",
      "            \"column_name\": {\n",
      "                \"column_unit_text\": \"[micromole/l]\",\n",
      "                \"column_vocabulary_text\": \"NTRI\",\n",
      "                \"column_vocabulary_urn\": \"SDN:P01::NTRIZZXX\"\n",
      "            }\n",
      "        },\n",
      "        {\n",
      "            \"column_name\": {\n",
      "                \"column_unit_text\": \"[micromole/l]\",\n",
      "                \"column_vocabulary_urn\": \"SDN:P01::NTRAZZXX\",\n",
      "                \"column_vocabulary_text\": \"NTRA\"\n",
      "            }\n",
      "        },\n",
      "        {\n",
      "            \"column_name\": {\n",
      "                \"column_vocabulary_urn\": \"SDN:P01::AMONZZXX\",\n",
      "                \"column_vocabulary_text\": \"AMON\",\n",
      "                \"column_unit_text\": \"[micromole/l]\"\n",
      "            }\n",
      "        },\n",
      "        {\n",
      "            \"column_name\": {\n",
      "                \"column_vocabulary_text\": \"NTOT\",\n",
      "                \"column_unit_text\": \"[micromole/l]\",\n",
      "                \"column_vocabulary_urn\": \"SDN:P01::NTOTZZXX\"\n",
      "            }\n",
      "        },\n",
      "        {\n",
      "            \"column_name\": {\n",
      "                \"column_unit_text\": \"[micromole/l]\",\n",
      "                \"column_vocabulary_text\": \"ALKY\",\n",
      "                \"column_vocabulary_urn\": \"SDN:P01::ALKYZZXX\"\n",
      "            }\n",
      "        },\n",
      "        {\n",
      "            \"column_name\": {\n",
      "                \"column_unit_text\": \"[micromole/l]\",\n",
      "                \"column_vocabulary_text\": \"SLCA\",\n",
      "                \"column_vocabulary_urn\": \"SDN:P01::SLCAZZXX\"\n",
      "            }\n",
      "        },\n",
      "        {\n",
      "            \"column_name\": {\n",
      "                \"column_vocabulary_text\": \"PN1P\",\n",
      "                \"column_unit_text\": \"[micromole/l]\",\n",
      "                \"column_vocabulary_urn\": \"SDN:P01::NTOTZZZZ\"\n",
      "            }\n",
      "        },\n",
      "        {\n",
      "            \"column_name\": {\n",
      "                \"column_unit_text\": \"[micromole/l]\",\n",
      "                \"column_vocabulary_text\": \"PC1P\",\n",
      "                \"column_vocabulary_urn\": \"SDN:P01::MDMAP010\"\n",
      "            }\n",
      "        },\n",
      "        {\n",
      "            \"column_name\": {\n",
      "                \"column_vocabulary_urn\": \"SDN:P01::CORGZZTL\",\n",
      "                \"column_vocabulary_text\": \"TOCW\",\n",
      "                \"column_unit_text\": \"[micromole/l]\"\n",
      "            }\n",
      "        },\n",
      "        {\n",
      "            \"column_name\": {\n",
      "                \"column_unit_text\": \"[milligram/m3]\",\n",
      "                \"column_vocabulary_urn\": \"SDN:P01::CPHLZZXX\",\n",
      "                \"column_vocabulary_text\": \"CPHL\"\n",
      "            }\n",
      "        }\n",
      "    ]\n",
      "}\n"
     ]
    }
   ],
   "source": [
    "llm = OpenAI(model_name=\"gpt-3.5-turbo-0613\")\n",
    "output = llm(prompt)\n",
    "print(output)\n",
    "# tests/data/odv_response.json"
   ]
  },
  {
   "cell_type": "markdown",
   "id": "2076950a53b646cf",
   "metadata": {
    "collapsed": false
   },
   "source": [
    "Parse URNs, URIs and text from the structured output"
   ]
  },
  {
   "cell_type": "code",
   "execution_count": 7,
   "id": "fe56e1a91c317ff8",
   "metadata": {
    "ExecuteTime": {
     "end_time": "2023-08-08T07:56:02.233643769Z",
     "start_time": "2023-08-08T07:56:02.186354090Z"
    },
    "collapsed": false
   },
   "outputs": [
    {
     "name": "stdout",
     "output_type": "stream",
     "text": [
      "\n",
      "PREFIX skos: <http://www.w3.org/2004/02/skos/core#>\n",
      "PREFIX dcterms: <http://purl.org/dc/terms/>\n",
      "\n",
      "SELECT ?collection_or_scheme {\n",
      "  ?concept dcterms:identifier ?urn .\n",
      "  {\n",
      "    ?collection_or_scheme skos:member ?concept .\n",
      "  } UNION {\n",
      "    ?concept skos:inScheme ?collection_or_scheme .\n",
      "  }\n",
      "FILTER(?urn IN (\n",
      "    \"SDN:P01::ADEPZZ01\", \"SDN:P01::TEMPPR01\", \"SDN:P01::PSLTZZ01\", \"SDN:P01::PHXXZZXX\", \"SDN:P01::DOXYZZXX\", \"SDN:P01::H2SXZZXX\", \"SDN:P01::PHOSZZXX\", \"SDN:P01::TPHSZZXX\", \"SDN:P01::NTRIZZXX\", \"SDN:P01::NTRAZZXX\", \"SDN:P01::AMONZZXX\", \"SDN:P01::NTOTZZXX\", \"SDN:P01::ALKYZZXX\", \"SDN:P01::SLCAZZXX\", \"SDN:P01::NTOTZZZZ\", \"SDN:P01::MDMAP010\", \"SDN:P01::CORGZZTL\", \"SDN:P01::CPHLZZXX\" \n",
      "  ))\n",
      "} \n",
      "GROUP BY ?collection_or_scheme\n",
      "    \n"
     ]
    }
   ],
   "source": [
    "vocab_urns, unit_urns = get_urns_from_odv(output)\n",
    "vocab_query = find_vocabs_sparql(vocab_urns)\n",
    "unit_query = find_vocabs_sparql(unit_urns)\n",
    "print(vocab_query)"
   ]
  },
  {
   "cell_type": "markdown",
   "id": "4a7d571965c3ea6f",
   "metadata": {
    "collapsed": false
   },
   "source": [
    "Execute the query against the knowledge base"
   ]
  },
  {
   "cell_type": "code",
   "execution_count": 8,
   "id": "8e83ae581f08a294",
   "metadata": {
    "ExecuteTime": {
     "end_time": "2023-08-08T07:57:49.309658625Z",
     "start_time": "2023-08-08T07:57:49.263291647Z"
    },
    "collapsed": false
   },
   "outputs": [
    {
     "name": "stdout",
     "output_type": "stream",
     "text": [
      "['http://vocab.nerc.ac.uk/collection/P01/current/'] []\n"
     ]
    }
   ],
   "source": [
    "vocabs_collections_uris = get_vocabs_from_sparql_endpoint(vocab_query)\n",
    "unit_vocabs_collections_uris = get_vocabs_from_sparql_endpoint(unit_query)\n",
    "print(vocabs_collections_uris, unit_vocabs_collections_uris)"
   ]
  },
  {
   "cell_type": "code",
   "execution_count": null,
   "id": "57cf507ee185d0dc",
   "metadata": {
    "collapsed": false
   },
   "outputs": [],
   "source": []
  }
 ],
 "metadata": {
  "kernelspec": {
   "display_name": "Python 3 (ipykernel)",
   "language": "python",
   "name": "python3"
  },
  "language_info": {
   "codemirror_mode": {
    "name": "ipython",
    "version": 3
   },
   "file_extension": ".py",
   "mimetype": "text/x-python",
   "name": "python",
   "nbconvert_exporter": "python",
   "pygments_lexer": "ipython3",
   "version": "3.11.4"
  }
 },
 "nbformat": 4,
 "nbformat_minor": 5
}
